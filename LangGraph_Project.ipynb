{
  "cells": [
    {
      "cell_type": "markdown",
      "id": "a603ef76",
      "metadata": {
        "id": "a603ef76"
      },
      "source": [
        "# Chatbot with Langgraph"
      ]
    },
    {
      "cell_type": "markdown",
      "source": [
        "#### Installing The Libraries\n"
      ],
      "metadata": {
        "id": "ScbHfD2fro7x"
      },
      "id": "ScbHfD2fro7x"
    },
    {
      "cell_type": "code",
      "execution_count": null,
      "id": "74f3327b",
      "metadata": {
        "id": "74f3327b"
      },
      "outputs": [],
      "source": [
        "!pip install langgraph langsmith"
      ]
    },
    {
      "cell_type": "code",
      "execution_count": null,
      "id": "11101f76",
      "metadata": {
        "id": "11101f76",
        "collapsed": true
      },
      "outputs": [],
      "source": [
        "!pip install langchain langchain_groq langchain_community"
      ]
    },
    {
      "cell_type": "markdown",
      "source": [
        "### API Connection With Google Secrets"
      ],
      "metadata": {
        "id": "qWM9vWt1r1BW"
      },
      "id": "qWM9vWt1r1BW"
    },
    {
      "cell_type": "code",
      "execution_count": 213,
      "id": "81a14348",
      "metadata": {
        "id": "81a14348"
      },
      "outputs": [],
      "source": [
        "from google.colab import userdata\n",
        "\n",
        "GROQ_API_KEY = userdata.get('test_groq1')\n",
        "langsmith = userdata.get('langsmith')\n",
        "\n",
      ]
    },
    {
      "cell_type": "code",
      "source": [
        "# print(GROQ_API_KEY)\n",
        "# print(langsmith)"
      ],
      "metadata": {
        "id": "P8NHMf-LqzaL"
      },
      "id": "P8NHMf-LqzaL",
      "execution_count": 214,
      "outputs": []
    },
    {
      "cell_type": "markdown",
      "source": [
        "### Using Groq AI"
      ],
      "metadata": {
        "id": "BWLGdsEVsCZb"
      },
      "id": "BWLGdsEVsCZb"
    },
    {
      "cell_type": "code",
      "execution_count": 215,
      "id": "ba1e7763",
      "metadata": {
        "id": "ba1e7763"
      },
      "outputs": [],
      "source": [
        "from langchain_groq import ChatGroq"
      ]
    },
    {
      "cell_type": "code",
      "execution_count": 216,
      "id": "5595568c",
      "metadata": {
        "colab": {
          "base_uri": "https://localhost:8080/"
        },
        "id": "5595568c",
        "outputId": "a20e37c7-d3d8-4ff2-f4ba-076750f49461"
      },
      "outputs": [
        {
          "output_type": "execute_result",
          "data": {
            "text/plain": [
              "ChatGroq(client=<groq.resources.chat.completions.Completions object at 0x7c455e0bb890>, async_client=<groq.resources.chat.completions.AsyncCompletions object at 0x7c455f47c950>, model_name='Gemma2-9b-It', model_kwargs={}, groq_api_key=SecretStr('**********'))"
            ]
          },
          "metadata": {},
          "execution_count": 216
        }
      ],
      "source": [
        "llm=ChatGroq(groq_api_key=GROQ_API_KEY,model_name=\"Gemma2-9b-It\")\n",
        "llm"
      ]
    },
    {
      "cell_type": "markdown",
      "source": [
        "### LangGraph Started Here"
      ],
      "metadata": {
        "id": "3eeQB89jsXqJ"
      },
      "id": "3eeQB89jsXqJ"
    },
    {
      "cell_type": "code",
      "execution_count": 217,
      "metadata": {
        "id": "A5WSp9DOtrIw"
      },
      "outputs": [],
      "source": [
        "from typing import Annotated\n",
        "from typing_extensions import TypedDict\n",
        "from langgraph.graph import StateGraph, START, END\n",
        "from langgraph.graph.message import add_messages"
      ],
      "id": "A5WSp9DOtrIw"
    },
    {
      "cell_type": "code",
      "execution_count": 218,
      "id": "d968e9de",
      "metadata": {
        "id": "d968e9de"
      },
      "outputs": [],
      "source": [
        "class State(TypedDict):\n",
        "    # Messages have the type \"list\". The `add_messages` function\n",
        "    # in the annotation defines how this state key should be updated\n",
        "    # (in this case, it appends messages to the list, rather than overwriting them)\n",
        "\n",
        "    messages:Annotated[list, add_messages]\n"
      ]
    },
    {
      "cell_type": "code",
      "execution_count": 219,
      "id": "3cf01bc8",
      "metadata": {
        "id": "3cf01bc8"
      },
      "outputs": [],
      "source": [
        "graph_builder = StateGraph(State)"
      ]
    },
    {
      "cell_type": "code",
      "execution_count": 220,
      "id": "a7bba4f7",
      "metadata": {
        "colab": {
          "base_uri": "https://localhost:8080/"
        },
        "id": "a7bba4f7",
        "outputId": "180932b8-6806-4c5b-d623-6a7364696fd0"
      },
      "outputs": [
        {
          "output_type": "execute_result",
          "data": {
            "text/plain": [
              "<langgraph.graph.state.StateGraph at 0x7c455e0ba890>"
            ]
          },
          "metadata": {},
          "execution_count": 220
        }
      ],
      "source": [
        "graph_builder"
      ]
    },
    {
      "cell_type": "code",
      "execution_count": 221,
      "id": "e430a904",
      "metadata": {
        "id": "e430a904"
      },
      "outputs": [],
      "source": [
        "def chat_bot(state:State):\n",
        "    return {'messages' : llm.invoke(state['messages'])}"
      ]
    },
    {
      "cell_type": "code",
      "execution_count": 222,
      "id": "30e636a9",
      "metadata": {
        "colab": {
          "base_uri": "https://localhost:8080/"
        },
        "id": "30e636a9",
        "outputId": "43ca57fd-cfa0-4dbb-c28a-72d9e8259c80"
      },
      "outputs": [
        {
          "output_type": "execute_result",
          "data": {
            "text/plain": [
              "<langgraph.graph.state.StateGraph at 0x7c455e0ba890>"
            ]
          },
          "metadata": {},
          "execution_count": 222
        }
      ],
      "source": [
        "graph_builder.add_node('chat_bot',chat_bot)"
      ]
    },
    {
      "cell_type": "code",
      "execution_count": 223,
      "id": "523ab46b",
      "metadata": {
        "colab": {
          "base_uri": "https://localhost:8080/"
        },
        "id": "523ab46b",
        "outputId": "eabd6546-5fbf-4d6a-dffa-5f92a3842136"
      },
      "outputs": [
        {
          "output_type": "execute_result",
          "data": {
            "text/plain": [
              "<langgraph.graph.state.StateGraph at 0x7c455e0ba890>"
            ]
          },
          "metadata": {},
          "execution_count": 223
        }
      ],
      "source": [
        "graph_builder.add_edge(START, 'chat_bot')\n",
        "graph_builder.add_edge('chat_bot', END)\n"
      ]
    },
    {
      "cell_type": "code",
      "execution_count": 224,
      "id": "72940439",
      "metadata": {
        "id": "72940439"
      },
      "outputs": [],
      "source": [
        "graph = graph_builder.compile()"
      ]
    },
    {
      "cell_type": "code",
      "execution_count": 225,
      "id": "6ed55a17",
      "metadata": {
        "colab": {
          "base_uri": "https://localhost:8080/",
          "height": 251
        },
        "id": "6ed55a17",
        "outputId": "5153ed35-5861-4741-87d0-132458ad9682"
      },
      "outputs": [
        {
          "output_type": "display_data",
          "data": {
            "image/png": "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\n",
            "text/plain": [
              "<IPython.core.display.Image object>"
            ]
          },
          "metadata": {}
        }
      ],
      "source": [
        "from IPython.display import Image, display\n",
        "\n",
        "try:\n",
        "    display(Image(graph.get_graph().draw_mermaid_png()))\n",
        "except Exception:\n",
        "    pass"
      ]
    },
    {
      "cell_type": "code",
      "execution_count": 226,
      "id": "d8e6ef73",
      "metadata": {
        "colab": {
          "base_uri": "https://localhost:8080/"
        },
        "id": "d8e6ef73",
        "outputId": "e35e9d47-0bbd-4d0c-8ad5-f43baf0398c7"
      },
      "outputs": [
        {
          "output_type": "stream",
          "name": "stdout",
          "text": [
            "LIKH BE: q\n",
            "Good Bye\n"
          ]
        }
      ],
      "source": [
        "while True:\n",
        "  user_input=input(\"LIKH BE: \")\n",
        "  if user_input.lower() in [\"quit\",\"q\"]:\n",
        "    print(\"Good Bye\")\n",
        "    break\n",
        "  for event in graph.stream({'messages':(\"user\",user_input)}):\n",
        "    print(event.values())\n",
        "    for value in event.values():\n",
        "      print(value['messages'])\n",
        "      print(\"Assistant:\",value[\"messages\"].content)"
      ]
    },
    {
      "cell_type": "code",
      "execution_count": 226,
      "id": "a964c20a",
      "metadata": {
        "id": "a964c20a"
      },
      "outputs": [],
      "source": []
    },
    {
      "cell_type": "code",
      "execution_count": 226,
      "metadata": {
        "id": "wzBmlTKBtrI0"
      },
      "outputs": [],
      "source": [],
      "id": "wzBmlTKBtrI0"
    },
    {
      "cell_type": "markdown",
      "id": "a570d8a9",
      "metadata": {
        "id": "a570d8a9"
      },
      "source": [
        "# PROJECT - 1"
      ]
    },
    {
      "cell_type": "markdown",
      "source": [
        "## Choosing Cricket or Basketball 🏏🏀"
      ],
      "metadata": {
        "id": "RcJDv2BxsktU"
      },
      "id": "RcJDv2BxsktU"
    },
    {
      "cell_type": "code",
      "source": [
        "from typing_extensions import TypedDict"
      ],
      "metadata": {
        "id": "pfGRcY7LrtfP"
      },
      "id": "pfGRcY7LrtfP",
      "execution_count": 227,
      "outputs": []
    },
    {
      "cell_type": "code",
      "source": [
        "class State(TypedDict):\n",
        "  graph_info:str"
      ],
      "metadata": {
        "id": "yIEAdQX_r5z2"
      },
      "id": "yIEAdQX_r5z2",
      "execution_count": 228,
      "outputs": []
    },
    {
      "cell_type": "code",
      "source": [
        "def start_play(state:State):\n",
        "  print('start play node has baeen calling')\n",
        "  return{'graph_info':state['graph_info'] + 'I am planning to play'}"
      ],
      "metadata": {
        "id": "mjnsVtqXsF0U"
      },
      "id": "mjnsVtqXsF0U",
      "execution_count": 229,
      "outputs": []
    },
    {
      "cell_type": "code",
      "source": [
        "def cricket(state:State):\n",
        "  print('cricket node has been calling')\n",
        "  return{'graph_info':state['graph_info'] + 'I am playing cricket'}\n",
        "\n",
        "\n",
        "def basketball(state:State):\n",
        "  print('basketball node has been calling')\n",
        "  return{'graph_info':state['graph_info'] + 'I am playing basketball'}"
      ],
      "metadata": {
        "id": "66OU9z0esa5p"
      },
      "id": "66OU9z0esa5p",
      "execution_count": 230,
      "outputs": []
    },
    {
      "cell_type": "code",
      "source": [
        "import random\n",
        "from typing import Literal\n",
        "\n",
        "def random_play(state:State) -> Literal['cricket', 'basketball']:\n",
        "  val = random.random()\n",
        "  print(val)\n",
        "  if val > 0.5:\n",
        "    return 'cricket'\n",
        "  else :\n",
        "    return 'basketball'"
      ],
      "metadata": {
        "id": "eHn64WUlsohd"
      },
      "id": "eHn64WUlsohd",
      "execution_count": 231,
      "outputs": []
    },
    {
      "cell_type": "code",
      "source": [
        "from IPython.display import Image,display\n",
        "from langgraph.graph import StateGraph, START, END"
      ],
      "metadata": {
        "id": "rJm89zAmtL-g"
      },
      "id": "rJm89zAmtL-g",
      "execution_count": 232,
      "outputs": []
    },
    {
      "cell_type": "code",
      "source": [
        "# Buliding Graph\n",
        "\n",
        "graph = StateGraph(State)\n",
        "\n",
        "# add nodes\n",
        "graph.add_node('start_play', start_play)\n",
        "graph.add_node('cricket', cricket)\n",
        "graph.add_node('basketball', basketball)\n",
        "\n",
        "\n",
        "# add egdes\n",
        "graph.add_edge(START, 'start_play')\n",
        "graph.add_conditional_edges('start_play', random_play)\n",
        "graph.add_edge('cricket', END)\n",
        "graph.add_edge('basketball', END)\n",
        "\n",
        "\n",
        "graph_builder = graph.compile()"
      ],
      "metadata": {
        "id": "TqmRDXmFtfjj"
      },
      "id": "TqmRDXmFtfjj",
      "execution_count": 233,
      "outputs": []
    },
    {
      "cell_type": "code",
      "source": [
        "display(Image(graph_builder.get_graph().draw_mermaid_png()))"
      ],
      "metadata": {
        "colab": {
          "base_uri": "https://localhost:8080/",
          "height": 350
        },
        "id": "dobK-x7lt70l",
        "outputId": "330c316b-3dbb-4d5c-8785-5a500b742453"
      },
      "id": "dobK-x7lt70l",
      "execution_count": 234,
      "outputs": [
        {
          "output_type": "display_data",
          "data": {
            "image/png": "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\n",
            "text/plain": [
              "<IPython.core.display.Image object>"
            ]
          },
          "metadata": {}
        }
      ]
    },
    {
      "cell_type": "code",
      "source": [
        "graph_builder.invoke({'graph_info':'my name is Bhupesh '})"
      ],
      "metadata": {
        "colab": {
          "base_uri": "https://localhost:8080/"
        },
        "id": "c63PWILCuNdG",
        "outputId": "ddfaa0e6-af06-45c1-cc39-8bfc7f07f55b"
      },
      "id": "c63PWILCuNdG",
      "execution_count": 235,
      "outputs": [
        {
          "output_type": "stream",
          "name": "stdout",
          "text": [
            "start play node has baeen calling\n",
            "0.40131990066422685\n",
            "basketball node has baeen calling\n"
          ]
        },
        {
          "output_type": "execute_result",
          "data": {
            "text/plain": [
              "{'graph_info': 'my name is Bhupesh i m planning to playi m playing basketball'}"
            ]
          },
          "metadata": {},
          "execution_count": 235
        }
      ]
    },
    {
      "cell_type": "code",
      "source": [],
      "metadata": {
        "id": "JtLD-JRruXzK"
      },
      "id": "JtLD-JRruXzK",
      "execution_count": 235,
      "outputs": []
    },
    {
      "cell_type": "code",
      "source": [],
      "metadata": {
        "id": "m1wSP9yVvrm5"
      },
      "id": "m1wSP9yVvrm5",
      "execution_count": 235,
      "outputs": []
    },
    {
      "cell_type": "code",
      "source": [],
      "metadata": {
        "id": "jU8flO0SvrkS"
      },
      "id": "jU8flO0SvrkS",
      "execution_count": 459,
      "outputs": []
    },
    {
      "cell_type": "markdown",
      "source": [
        "# PROJECT - 2"
      ],
      "metadata": {
        "id": "7L91TmRavr3e"
      },
      "id": "7L91TmRavr3e"
    },
    {
      "cell_type": "markdown",
      "source": [
        "## LangGraph With Agentic AI\n",
        "- Tavilo (Google Search)\n",
        "- Arxiv Reseach Paper\n",
        "- Wikipedia"
      ],
      "metadata": {
        "id": "-k9wo42ss9ak"
      },
      "id": "-k9wo42ss9ak"
    },
    {
      "cell_type": "markdown",
      "source": [
        "Installing and Importing all the Libraries for the Project"
      ],
      "metadata": {
        "id": "SpqvZUrAwIbf"
      },
      "id": "SpqvZUrAwIbf"
    },
    {
      "cell_type": "code",
      "source": [
        "!pip install arxiv"
      ],
      "metadata": {
        "id": "XaUoxv8lw-20"
      },
      "id": "XaUoxv8lw-20",
      "execution_count": null,
      "outputs": []
    },
    {
      "cell_type": "code",
      "source": [
        "!pip install wikipedia"
      ],
      "metadata": {
        "id": "KF6gLJF7yG55"
      },
      "id": "KF6gLJF7yG55",
      "execution_count": 237,
      "outputs": []
    },
    {
      "cell_type": "code",
      "source": [
        "from langchain_community.tools import ArxivQueryRun, WikipediaQueryRun\n",
        "from langchain_community.utilities import WikipediaAPIWrapper, ArxivAPIWrapper"
      ],
      "metadata": {
        "id": "aOhWbWaivtM9"
      },
      "id": "aOhWbWaivtM9",
      "execution_count": 238,
      "outputs": []
    },
    {
      "cell_type": "code",
      "source": [
        "api_wrapper_arxiv = ArxivAPIWrapper(top_k_results=1, doc_content_chars_max=500)\n",
        "arxiv_run = ArxivQueryRun(api_wrapper = api_wrapper_arxiv, description = \"Arxiv chal gyi\")"
      ],
      "metadata": {
        "id": "UheI6pgQwBay"
      },
      "id": "UheI6pgQwBay",
      "execution_count": 239,
      "outputs": []
    },
    {
      "cell_type": "code",
      "source": [
        "print(arxiv_run.name)\n",
        "print(\"----\" * 25)\n",
        "print(\"----\" * 25)\n",
        "\n",
        "print(arxiv_run.run(\"Deep Learning\"))\n",
        "print(\"----\" * 25)\n",
        "print(\"----\" * 25)\n",
        "\n",
        "print(arxiv_run.invoke('Attention is all you need'))\n",
        "print(\"----\" * 25)\n",
        "print(\"----\" * 25)\n"
      ],
      "metadata": {
        "colab": {
          "base_uri": "https://localhost:8080/"
        },
        "id": "1MyUq38kxDiM",
        "outputId": "300d2ed6-add5-4fc0-bd11-ad034aee193a"
      },
      "id": "1MyUq38kxDiM",
      "execution_count": 240,
      "outputs": [
        {
          "output_type": "stream",
          "name": "stdout",
          "text": [
            "arxiv\n",
            "----------------------------------------------------------------------------------------------------\n",
            "----------------------------------------------------------------------------------------------------\n",
            "Published: 2018-05-22\n",
            "Title: Opening the black box of deep learning\n",
            "Authors: Dian Lei, Xiaoxiao Chen, Jianfei Zhao\n",
            "Summary: The great success of deep learning shows that its technology contains\n",
            "profound truth, and understanding its internal mechanism not only has important\n",
            "implications for the development of its technology and effective application in\n",
            "various fields, but also provides meaningful insights into the understanding of\n",
            "human brain mechanism. At present, most of the theoretical researc\n",
            "----------------------------------------------------------------------------------------------------\n",
            "----------------------------------------------------------------------------------------------------\n",
            "Published: 2024-07-22\n",
            "Title: Attention Is All You Need But You Don't Need All Of It For Inference of Large Language Models\n",
            "Authors: Georgy Tyukin, Gbetondji J-S Dovonon, Jean Kaddour, Pasquale Minervini\n",
            "Summary: The inference demand for LLMs has skyrocketed in recent months, and serving\n",
            "models with low latencies remains challenging due to the quadratic input length\n",
            "complexity of the attention layers. In this work, we investigate the effect of\n",
            "dropping MLP and attention layers at inference time o\n",
            "----------------------------------------------------------------------------------------------------\n",
            "----------------------------------------------------------------------------------------------------\n"
          ]
        }
      ]
    },
    {
      "cell_type": "code",
      "source": [
        "api_wrapper_wiki = WikipediaAPIWrapper(top_k_results=1, doc_content_chars_max=500)\n",
        "wiki_run = WikipediaQueryRun(api_wrapper = api_wrapper_wiki, description = \"Wiki chal gyi\")"
      ],
      "metadata": {
        "id": "3Ibku0gRw1_b"
      },
      "id": "3Ibku0gRw1_b",
      "execution_count": 241,
      "outputs": []
    },
    {
      "cell_type": "code",
      "source": [
        "print(wiki_run.name)\n",
        "print(\"----\" * 25)\n",
        "print(\"----\" * 25)\n",
        "\n",
        "print(wiki_run.run(\"Deep Learning\"))\n",
        "print(\"----\" * 25)\n",
        "print(\"----\" * 25)\n",
        "\n",
        "print(wiki_run.invoke('Attention is all you need'))\n",
        "print(\"----\" * 25)\n",
        "print(\"----\" * 25)\n"
      ],
      "metadata": {
        "colab": {
          "base_uri": "https://localhost:8080/"
        },
        "id": "Y4VeA0HWw18l",
        "outputId": "1aa5788a-7cf9-4d0b-da03-539a25923cff"
      },
      "id": "Y4VeA0HWw18l",
      "execution_count": 242,
      "outputs": [
        {
          "output_type": "stream",
          "name": "stdout",
          "text": [
            "wikipedia\n",
            "----------------------------------------------------------------------------------------------------\n",
            "----------------------------------------------------------------------------------------------------\n",
            "Page: Deep learning\n",
            "Summary: Deep learning is a subset of machine learning that focuses on utilizing multilayered neural networks to perform tasks such as classification, regression, and representation learning. The field takes inspiration from biological neuroscience and is centered around stacking artificial neurons into layers and \"training\" them to process data. The adjective \"deep\" refers to the use of multiple layers (ranging from three to several hundred or thousands) in the network. Meth\n",
            "----------------------------------------------------------------------------------------------------\n",
            "----------------------------------------------------------------------------------------------------\n",
            "Page: Attention Is All You Need\n",
            "Summary: \"Attention Is All You Need\" is a 2017 landmark research paper in machine learning authored by eight scientists working at Google. The paper introduced a new deep learning architecture known as the transformer, based on the attention mechanism proposed in 2014 by Bahdanau et al. It is considered a foundational paper in modern artificial intelligence, and a main contributor to the AI boom, as the transformer approach has become the main architecture of a wi\n",
            "----------------------------------------------------------------------------------------------------\n",
            "----------------------------------------------------------------------------------------------------\n"
          ]
        }
      ]
    },
    {
      "cell_type": "code",
      "source": [
        "from google.colab import userdata\n",
        "tavily_api = userdata.get('tavily_api')\n",
        "grok_api = userdata.get('test_groq1')"
      ],
      "metadata": {
        "id": "hKTDVUE5w15-"
      },
      "id": "hKTDVUE5w15-",
      "execution_count": 243,
      "outputs": []
    },
    {
      "cell_type": "code",
      "source": [
        "# print(tavily_api)\n",
        "# print(grok_api)"
      ],
      "metadata": {
        "id": "1EXj9S1Dw13h"
      },
      "id": "1EXj9S1Dw13h",
      "execution_count": 244,
      "outputs": []
    },
    {
      "cell_type": "code",
      "source": [
        "from langchain_community.tools.tavily_search import TavilySearchResults"
      ],
      "metadata": {
        "id": "15rgaKNH0mlR"
      },
      "id": "15rgaKNH0mlR",
      "execution_count": 245,
      "outputs": []
    },
    {
      "cell_type": "code",
      "source": [
        "tavilo = TavilySearchResults(tavily_api_key=tavily_api, max_results=5)"
      ],
      "metadata": {
        "id": "BqyFbNfs1PWs"
      },
      "id": "BqyFbNfs1PWs",
      "execution_count": 246,
      "outputs": []
    },
    {
      "cell_type": "code",
      "source": [
        "tavilo"
      ],
      "metadata": {
        "colab": {
          "base_uri": "https://localhost:8080/"
        },
        "id": "3XPAuB6g1PRV",
        "outputId": "9d6ef39d-4fd4-4725-f709-e31a6d0d2400"
      },
      "id": "3XPAuB6g1PRV",
      "execution_count": 247,
      "outputs": [
        {
          "output_type": "execute_result",
          "data": {
            "text/plain": [
              "TavilySearchResults(api_wrapper=TavilySearchAPIWrapper(tavily_api_key=SecretStr('**********')))"
            ]
          },
          "metadata": {},
          "execution_count": 247
        }
      ]
    },
    {
      "cell_type": "code",
      "source": [
        "print(tavilo.invoke('Provide me latest AI news'))\n",
        "print('----' * 25)\n",
        "print(tavilo.invoke('What is an LLM and GRPO'))"
      ],
      "metadata": {
        "colab": {
          "base_uri": "https://localhost:8080/"
        },
        "id": "4FIreEPk1PMy",
        "outputId": "749be8d0-7d46-4c99-844d-db25dc088a1b"
      },
      "id": "4FIreEPk1PMy",
      "execution_count": 248,
      "outputs": [
        {
          "output_type": "stream",
          "name": "stdout",
          "text": [
            "[{'title': 'Artificial Intelligence - Latest AI News and Analysis - WSJ.com', 'url': 'https://www.wsj.com/tech/ai', 'content': 'The latest artificial intelligence news coverage focusing on the technology, tools and the companies building AI technology.', 'score': 0.6701125}, {'title': 'Artificial intelligence - NBC News', 'url': 'https://www.nbcnews.com/artificial-intelligence', 'content': \"The latest news and top stories on artificial intelligence, including AI chatbots like Microsoft's ChatGPT, Apple's AI Chatbot and Google's Bard.\", 'score': 0.6466616}, {'title': 'AI News | Latest AI News, Analysis & Events', 'url': 'https://www.artificialintelligence-news.com/', 'content': 'UK deploys AI to boost Arctic security amid growing threats · Ethics in automation: Addressing bias and compliance in AI · Oracle plans $40B Nvidia chip deal for', 'score': 0.62495816}, {'title': 'Artificial Intelligence | Latest News, Photos & Videos - WIRED', 'url': 'https://www.wired.com/tag/artificial-intelligence/', 'content': 'Find the latest Artificial Intelligence news from WIRED. See related science and technology articles, photos, slideshows and videos.', 'score': 0.6083387}, {'title': 'Artificial Intelligence News - ScienceDaily', 'url': 'https://www.sciencedaily.com/news/computers_math/artificial_intelligence/', 'content': 'Artificial Intelligence News. Everything on AI including futuristic robots with artificial intelligence, computer models of human intelligence and more.', 'score': 0.57437146}]\n",
            "----------------------------------------------------------------------------------------------------\n",
            "[{'title': 'LLM Optimization: Optimizing AI with GRPO, PPO, and DPO', 'url': 'https://www.analyticsvidhya.com/blog/2025/02/llm-optimization/', 'content': 'DeepSeek’s Group Relative Policy Optimization (GRPO) is an advanced preference optimization technique that extends Direct Preference Optimization (DPO) while incorporating elements from Proximal Policy Optimization (PPO). Unlike traditional policy optimization methods that operate on single preference pairs, GRPO leverages group-wise preference ranking, enabling better alignment with human feedback in large-scale LLM fine-tuning. [...] Unlike pairwise DPO and trust-region PPO, GRPO allows LLMs to learn from multiple ranked completions per prompt, significantly improving response quality, stability, and human alignment. [...] where xis the input prompt, and π_θrepresents the policy (LLM) parameterized by θ. The key objective is to maximize the probability of higher-ranked responses while suppressing the probability of lower-ranked ones.\\nTo enforce relative preference constraints, GRPO optimizes the following pairwise ranking loss across all response pairs:\\n\\nwhere:', 'score': 0.8539252}, {'title': 'Post training an LLM for reasoning with GRPO in TRL - Hugging Face', 'url': 'https://huggingface.co/learn/cookbook/en/fine_tuning_llm_grpo_trl', 'content': 'In this notebook, we’ll guide you through the process of post-training a Large Language Model (LLM) using Group Relative Policy Optimization (GRPO), a method introduced in the DeepSeekMath paper. GRPO is particularly effective for scaling test-time compute for extended reasoning, making it an ideal approach for solving complex tasks, such as mathematical problem-solving. [...] GRPO is a reinforcement learning (RL) post-training technique that was integrated into the training pipeline for DeepSeek-R1. It seems to share similarities with the training procedures used in the latest OpenAI o1 and o3 models, though the exact alignment is not confirmed. Unlike earlier techniques that relied on search-heuristic methods, GRPO exclusively employs RL for post-training, enhancing the model’s capacity to handle complex and nuanced tasks.', 'score': 0.8443195}, {'title': 'GRPO and the Future of LLM Fine-tuning: Moving Beyond Human ...', 'url': 'https://medium.com/@andrecnf/grpo-and-the-future-of-llm-fine-tuning-moving-beyond-human-imitation-335dc14c2df9', 'content': 'GRPO (DeepSeek R1 style Reinforcement Learning) represents a shift from text style optimization to outcome-based fine-tuning for LLMs; tools like unsloth make it accessible; this approach can lead to superhuman performance on verifiable tasks while improving explainability through reasoning chains.\\nContext [...] The current predominant approach to LLM fine-tuning focuses on optimizing text style and format to match human-generated content. While this has yielded impressive results, it fundamentally limits these models to writing in ways that human annotators do.\\nGRPO offers something different: outcome-based fine-tuning. [...] Rather than teaching models to mimic human writing patterns, GRPO optimizes for actual result quality. This distinction is crucial because it opens the door to potentially superhuman intelligence, at least in specific verifiable domains like coding and mathematics.\\nImagine the difference between:', 'score': 0.78493005}, {'title': 'Deep Dive into DeepSeek R1: Revolutionizing LLM Reinforcement ...', 'url': 'https://www.linkedin.com/pulse/deepseek-r1-reinforcement-learning-llm-group-relative-mitul-tiwari-c8gmf', 'content': 'GRPO is a simplified version of PPO that eliminates the need for a value model. For each input question, GRPO samples multiple outputs (responses) from the model. These outputs form a \"group\" that is evaluated together. The reward for each output is normalized relative to the group\\'s average performance. This normalized group-relative score is used as the advantage value for training. [...] DeepSeek-R1 seems to be a very good reasoning model and performs well on math, science, and coding tasks. DeepSeek\\'s introduction of Group Relative Policy Optimization (GRPO) represents a significant advancement in reinforcement learning for language models. By eliminating the need for a separate value model while maintaining the stability benefits of PPO, GRPO offers a more efficient approach to model training. This innovation, combined with other enhancements like FP8 mixed precision training', 'score': 0.77261686}, {'title': 'Group Relative Policy Optimization (GRPO) Illustrated Breakdown', 'url': 'https://epichka.com/blog/2025/grpo/', 'content': 'LLM as a Policy\\nIn GRPO, the language model serves as the policy network (actor), taking a question q as input observation s and producing a sequence of tokens as actions. The policy distribution factors across tokens:\\nπθ(a∣q)\\\\=∏t\\\\=1Nπθ(at∣q,a<t)Note: In the original paper [2], they use ot to denote the output token at timestep t. Whereas we use at instead to conform with standard RL notation of action.\\nSequential Token Generation [...] The key innovations of GRPO - group sampling, relative advantage estimation, and the elimination of the value network - provide a blueprint for future developments in LLM training. As we continue to push the boundaries of what language models can achieve, techniques like GRPO will be crucial in unlocking their full potential.\\nReferences\\n[1] Schulman, John, et al. Proximal Policy Optimization Algorithms. arXiv:1707.06347, arXiv, 28 Aug. 2017. arXiv.org, https://doi.org/10.48550/arXiv.1707.06347.', 'score': 0.72278196}]\n"
          ]
        }
      ]
    },
    {
      "cell_type": "markdown",
      "source": [
        "---\n",
        "Created 3 Agentic AI and Connecting as Tools\n",
        "\n",
        "---\n",
        "\n"
      ],
      "metadata": {
        "id": "aNHfDcbOwlTC"
      },
      "id": "aNHfDcbOwlTC"
    },
    {
      "cell_type": "code",
      "source": [
        "tools = [arxiv_run, wiki_run, tavilo]"
      ],
      "metadata": {
        "id": "lBeyTOtF1PJr"
      },
      "id": "lBeyTOtF1PJr",
      "execution_count": 249,
      "outputs": []
    },
    {
      "cell_type": "markdown",
      "source": [
        "### Using Groq AI"
      ],
      "metadata": {
        "id": "dB5Hi8JMwvvM"
      },
      "id": "dB5Hi8JMwvvM"
    },
    {
      "cell_type": "code",
      "source": [
        "from langchain_groq import ChatGroq\n",
        "\n",
        "# llm=ChatGroq(groq_api_key=grok_api,model_name=\"llama-3.3-70b-versatile\")\n",
        "llm=ChatGroq(groq_api_key=grok_api,model_name=\"Gemma2-9b-It\")\n",
        "llm"
      ],
      "metadata": {
        "colab": {
          "base_uri": "https://localhost:8080/"
        },
        "id": "aUd3CBWT1OJF",
        "outputId": "8fd8958c-8a39-4e61-af55-92aeded7ce21"
      },
      "id": "aUd3CBWT1OJF",
      "execution_count": 250,
      "outputs": [
        {
          "output_type": "execute_result",
          "data": {
            "text/plain": [
              "ChatGroq(client=<groq.resources.chat.completions.Completions object at 0x7c455e05e090>, async_client=<groq.resources.chat.completions.AsyncCompletions object at 0x7c455e33d0d0>, model_name='Gemma2-9b-It', model_kwargs={}, groq_api_key=SecretStr('**********'))"
            ]
          },
          "metadata": {},
          "execution_count": 250
        }
      ]
    },
    {
      "cell_type": "code",
      "source": [
        "llm.invoke('what is LLM and GRPO')"
      ],
      "metadata": {
        "id": "_sHH62hN5FEE"
      },
      "id": "_sHH62hN5FEE",
      "execution_count": null,
      "outputs": []
    },
    {
      "cell_type": "code",
      "source": [
        "llm_with_tools = llm.bind_tools(tools)"
      ],
      "metadata": {
        "id": "cGhSHvhM5d-D"
      },
      "id": "cGhSHvhM5d-D",
      "execution_count": 252,
      "outputs": []
    },
    {
      "cell_type": "code",
      "source": [
        "llm_with_tools"
      ],
      "metadata": {
        "colab": {
          "base_uri": "https://localhost:8080/"
        },
        "id": "1cuFPlYx6xY0",
        "outputId": "d753d107-e266-4034-a059-5579f53698b2"
      },
      "id": "1cuFPlYx6xY0",
      "execution_count": 253,
      "outputs": [
        {
          "output_type": "execute_result",
          "data": {
            "text/plain": [
              "RunnableBinding(bound=ChatGroq(client=<groq.resources.chat.completions.Completions object at 0x7c455e05e090>, async_client=<groq.resources.chat.completions.AsyncCompletions object at 0x7c455e33d0d0>, model_name='Gemma2-9b-It', model_kwargs={}, groq_api_key=SecretStr('**********')), kwargs={'tools': [{'type': 'function', 'function': {'name': 'arxiv', 'description': 'Arxiv chal gyi', 'parameters': {'properties': {'query': {'description': 'search query to look up', 'type': 'string'}}, 'required': ['query'], 'type': 'object'}}}, {'type': 'function', 'function': {'name': 'wikipedia', 'description': 'Wiki chal gyi', 'parameters': {'properties': {'query': {'description': 'query to look up on wikipedia', 'type': 'string'}}, 'required': ['query'], 'type': 'object'}}}, {'type': 'function', 'function': {'name': 'tavily_search_results_json', 'description': 'A search engine optimized for comprehensive, accurate, and trusted results. Useful for when you need to answer questions about current events. Input should be a search query.', 'parameters': {'properties': {'query': {'description': 'search query to look up', 'type': 'string'}}, 'required': ['query'], 'type': 'object'}}}]}, config={}, config_factories=[])"
            ]
          },
          "metadata": {},
          "execution_count": 253
        }
      ]
    },
    {
      "cell_type": "code",
      "source": [
        "llm_with_tools.invoke('what is LLM and GRPO, find the latest news ?')"
      ],
      "metadata": {
        "colab": {
          "base_uri": "https://localhost:8080/"
        },
        "id": "ytXzu8Wn648o",
        "outputId": "69df2884-b88b-40a8-c883-b1259749c313"
      },
      "id": "ytXzu8Wn648o",
      "execution_count": 254,
      "outputs": [
        {
          "output_type": "execute_result",
          "data": {
            "text/plain": [
              "AIMessage(content='', additional_kwargs={'tool_calls': [{'id': 'call_5xxe', 'function': {'arguments': '{\"query\":\"LLM and GRPO latest news\"}', 'name': 'tavily_search_results_json'}, 'type': 'function'}]}, response_metadata={'token_usage': {'completion_tokens': 93, 'prompt_tokens': 1217, 'total_tokens': 1310, 'completion_time': 0.169090909, 'prompt_time': 0.052848524, 'queue_time': 0.070531661, 'total_time': 0.221939433}, 'model_name': 'Gemma2-9b-It', 'system_fingerprint': 'fp_10c08bf97d', 'finish_reason': 'tool_calls', 'logprobs': None}, id='run--1eadf432-d0a8-4cd6-85e8-1388a7d93e2b-0', tool_calls=[{'name': 'tavily_search_results_json', 'args': {'query': 'LLM and GRPO latest news'}, 'id': 'call_5xxe', 'type': 'tool_call'}], usage_metadata={'input_tokens': 1217, 'output_tokens': 93, 'total_tokens': 1310})"
            ]
          },
          "metadata": {},
          "execution_count": 254
        }
      ]
    },
    {
      "cell_type": "code",
      "source": [
        "llm_with_tools.invoke('what is latest research on quantum computing ?')\n",
        "# llm_with_tools.invoke('what is latest research on Natual language search')"
      ],
      "metadata": {
        "colab": {
          "base_uri": "https://localhost:8080/"
        },
        "id": "s1j8uoSb7AJE",
        "outputId": "7cf3d168-2195-41ce-c97e-dd4990a0df36"
      },
      "id": "s1j8uoSb7AJE",
      "execution_count": 255,
      "outputs": [
        {
          "output_type": "execute_result",
          "data": {
            "text/plain": [
              "AIMessage(content='', additional_kwargs={'tool_calls': [{'id': 'call_rnra', 'function': {'arguments': '{\"query\":\"quantum computing\"}', 'name': 'arxiv'}, 'type': 'function'}]}, response_metadata={'token_usage': {'completion_tokens': 80, 'prompt_tokens': 1212, 'total_tokens': 1292, 'completion_time': 0.145454545, 'prompt_time': 0.042658237, 'queue_time': 0.09626054599999999, 'total_time': 0.188112782}, 'model_name': 'Gemma2-9b-It', 'system_fingerprint': 'fp_10c08bf97d', 'finish_reason': 'tool_calls', 'logprobs': None}, id='run--ea9d4402-148a-4101-a24d-7938e901fd59-0', tool_calls=[{'name': 'arxiv', 'args': {'query': 'quantum computing'}, 'id': 'call_rnra', 'type': 'tool_call'}], usage_metadata={'input_tokens': 1212, 'output_tokens': 80, 'total_tokens': 1292})"
            ]
          },
          "metadata": {},
          "execution_count": 255
        }
      ]
    },
    {
      "cell_type": "code",
      "source": [
        "llm_with_tools.invoke('what is Turing test ?')"
      ],
      "metadata": {
        "colab": {
          "base_uri": "https://localhost:8080/"
        },
        "id": "oBzhc12P7OiZ",
        "outputId": "a0a7bd01-12de-405d-a4f5-a4eb405ef21c"
      },
      "id": "oBzhc12P7OiZ",
      "execution_count": 256,
      "outputs": [
        {
          "output_type": "execute_result",
          "data": {
            "text/plain": [
              "AIMessage(content='', additional_kwargs={'tool_calls': [{'id': 'call_4xgw', 'function': {'arguments': '{\"query\":\"Turing test\"}', 'name': 'wikipedia'}, 'type': 'function'}]}, response_metadata={'token_usage': {'completion_tokens': 81, 'prompt_tokens': 1209, 'total_tokens': 1290, 'completion_time': 0.147272727, 'prompt_time': 0.044791834, 'queue_time': 0.070649385, 'total_time': 0.192064561}, 'model_name': 'Gemma2-9b-It', 'system_fingerprint': 'fp_10c08bf97d', 'finish_reason': 'tool_calls', 'logprobs': None}, id='run--62e60b3a-45ef-4c57-9685-6bb7ee1b893a-0', tool_calls=[{'name': 'wikipedia', 'args': {'query': 'Turing test'}, 'id': 'call_4xgw', 'type': 'tool_call'}], usage_metadata={'input_tokens': 1209, 'output_tokens': 81, 'total_tokens': 1290})"
            ]
          },
          "metadata": {},
          "execution_count": 256
        }
      ]
    },
    {
      "cell_type": "markdown",
      "source": [
        "## Workflow"
      ],
      "metadata": {
        "id": "LQR32_OS7gLc"
      },
      "id": "LQR32_OS7gLc"
    },
    {
      "cell_type": "code",
      "source": [
        "#State Schema\n",
        "\n",
        "from typing_extensions import TypedDict\n",
        "from typing import Annotated\n",
        "from langchain_core.messages import AnyMessage\n",
        "from langgraph.graph import StateGraph, START, END\n",
        "from langgraph.graph.message import add_messages"
      ],
      "metadata": {
        "id": "xqj2cDkT7bzI"
      },
      "id": "xqj2cDkT7bzI",
      "execution_count": 399,
      "outputs": []
    },
    {
      "cell_type": "code",
      "source": [
        "class state(State):\n",
        "  messages : Annotated[list[AnyMessage], add_messages]"
      ],
      "metadata": {
        "id": "ypoO5prH7jUP"
      },
      "id": "ypoO5prH7jUP",
      "execution_count": 400,
      "outputs": []
    },
    {
      "cell_type": "code",
      "source": [
        "from IPython.display import Image, display\n",
        "from langgraph.graph import StateGraph, START, END\n",
        "from langgraph.prebuilt import ToolNode, tools_condition"
      ],
      "metadata": {
        "id": "CI2Et_2w7y02"
      },
      "id": "CI2Et_2w7y02",
      "execution_count": 401,
      "outputs": []
    },
    {
      "cell_type": "code",
      "source": [
        "def tool_calling_llm(state:state):\n",
        "  return {'messages' : llm_with_tools.invoke(state['messages'])}"
      ],
      "metadata": {
        "id": "a8EY6Ore9o2m"
      },
      "id": "a8EY6Ore9o2m",
      "execution_count": 402,
      "outputs": []
    },
    {
      "cell_type": "code",
      "source": [
        "# graph builder\n",
        "\n",
        "graph_builder = StateGraph(state)\n",
        "graph_builder.add_node('tool_calling_llm', tool_calling_llm)\n",
        "graph_builder.add_node('tools', ToolNode(tools))"
      ],
      "metadata": {
        "colab": {
          "base_uri": "https://localhost:8080/"
        },
        "id": "qKHlIctQ9ozy",
        "outputId": "716521c4-7b72-4fc5-b6a7-a5ebf5a4c685"
      },
      "id": "qKHlIctQ9ozy",
      "execution_count": 403,
      "outputs": [
        {
          "output_type": "execute_result",
          "data": {
            "text/plain": [
              "<langgraph.graph.state.StateGraph at 0x7c455e008990>"
            ]
          },
          "metadata": {},
          "execution_count": 403
        }
      ]
    },
    {
      "cell_type": "code",
      "source": [
        "graph_builder.add_edge(START, 'tool_calling_llm')\n",
        "# graph_builder.add_edge('tools', 'tool_calling_llm')\n",
        "graph_builder.add_conditional_edges('tool_calling_llm', tools_condition)\n",
        "graph_builder.add_edge('tools', END)"
      ],
      "metadata": {
        "colab": {
          "base_uri": "https://localhost:8080/"
        },
        "id": "ZZNL1bcy9oxC",
        "outputId": "5b648ea8-68a4-4fce-95c9-7539e6303f76"
      },
      "id": "ZZNL1bcy9oxC",
      "execution_count": 404,
      "outputs": [
        {
          "output_type": "execute_result",
          "data": {
            "text/plain": [
              "<langgraph.graph.state.StateGraph at 0x7c455e008990>"
            ]
          },
          "metadata": {},
          "execution_count": 404
        }
      ]
    },
    {
      "cell_type": "code",
      "source": [
        "graph = graph_builder.compile()"
      ],
      "metadata": {
        "id": "uKrVfKNK9os0"
      },
      "id": "uKrVfKNK9os0",
      "execution_count": 405,
      "outputs": []
    },
    {
      "cell_type": "code",
      "source": [
        "display(Image(graph.get_graph().draw_mermaid_png()))"
      ],
      "metadata": {
        "colab": {
          "base_uri": "https://localhost:8080/",
          "height": 350
        },
        "id": "HsUgZqbN9op5",
        "outputId": "5df230a6-1a3a-4772-bc54-2d8c179f88dd"
      },
      "id": "HsUgZqbN9op5",
      "execution_count": 406,
      "outputs": [
        {
          "output_type": "display_data",
          "data": {
            "image/png": "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\n",
            "text/plain": [
              "<IPython.core.display.Image object>"
            ]
          },
          "metadata": {}
        }
      ]
    },
    {
      "cell_type": "code",
      "source": [
        "# from langchain_core.messages import HumanMessage\n",
        "\n",
        "\n",
        "# msg = graph.invoke({'messages': [HumanMessage(\"write about ML\")]})\n",
        "\n",
        "# for m in msg['message']:\n",
        "#   m.pretty_print()\n",
        "\n",
        "from langchain_core.messages import HumanMessage\n",
        "\n",
        "msg = graph.invoke({'messages': HumanMessage(content= \"2505.21486\")})\n",
        "\n",
        "for m in msg['messages']:\n",
        "  m.pretty_print()"
      ],
      "metadata": {
        "colab": {
          "base_uri": "https://localhost:8080/"
        },
        "id": "UkpUSPVb-ia5",
        "outputId": "0167100e-e1a0-40d7-ba02-f6f8a161a39c"
      },
      "id": "UkpUSPVb-ia5",
      "execution_count": 415,
      "outputs": [
        {
          "output_type": "stream",
          "name": "stdout",
          "text": [
            "================================\u001b[1m Human Message \u001b[0m=================================\n",
            "\n",
            "2505.21486\n",
            "==================================\u001b[1m Ai Message \u001b[0m==================================\n",
            "Tool Calls:\n",
            "  arxiv (call_dxbd)\n",
            " Call ID: call_dxbd\n",
            "  Args:\n",
            "    query: 2505.21486\n",
            "=================================\u001b[1m Tool Message \u001b[0m=================================\n",
            "Name: arxiv\n",
            "\n",
            "Published: 2025-05-27\n",
            "Title: Robust Hypothesis Generation: LLM-Automated Language Bias for Inductive Logic Programming\n",
            "Authors: Yang Yang, Jiemin Wu, Yutao Yue\n",
            "Summary: Automating robust hypothesis generation in open environments is pivotal for\n",
            "AI cognition. We introduce a novel framework integrating a multi-agent system,\n",
            "powered by Large Language Models (LLMs), with Inductive Logic Programming\n",
            "(ILP). Our system's LLM agents autonomously define a structured symbolic\n",
            "vocabulary (predicates) and r\n"
          ]
        }
      ]
    },
    {
      "cell_type": "code",
      "source": [],
      "metadata": {
        "id": "TxVATlbs-wxl"
      },
      "id": "TxVATlbs-wxl",
      "execution_count": 333,
      "outputs": []
    },
    {
      "cell_type": "code",
      "source": [],
      "metadata": {
        "id": "gufTggNEeFGQ"
      },
      "id": "gufTggNEeFGQ",
      "execution_count": null,
      "outputs": []
    },
    {
      "cell_type": "code",
      "source": [],
      "metadata": {
        "id": "SCloAB0veFDN"
      },
      "id": "SCloAB0veFDN",
      "execution_count": null,
      "outputs": []
    },
    {
      "cell_type": "markdown",
      "source": [
        "### Another Trial Graph"
      ],
      "metadata": {
        "id": "4oEw2EVVw7UI"
      },
      "id": "4oEw2EVVw7UI"
    },
    {
      "cell_type": "code",
      "source": [
        "# graph builder\n",
        "\n",
        "graph_builder2 = StateGraph(state)\n",
        "graph_builder2.add_node('tool_calling_llm', tool_calling_llm)\n",
        "graph_builder2.add_node('tools', ToolNode(tools))"
      ],
      "metadata": {
        "colab": {
          "base_uri": "https://localhost:8080/"
        },
        "id": "6WNGk0GweFAJ",
        "outputId": "e3426925-f794-49ba-b2b4-e3a78e7347c7"
      },
      "id": "6WNGk0GweFAJ",
      "execution_count": 455,
      "outputs": [
        {
          "output_type": "execute_result",
          "data": {
            "text/plain": [
              "<langgraph.graph.state.StateGraph at 0x7c455e23fc90>"
            ]
          },
          "metadata": {},
          "execution_count": 455
        }
      ]
    },
    {
      "cell_type": "code",
      "source": [
        "graph_builder2.add_edge(START, 'tool_calling_llm')\n",
        "# graph_builder2.add_edge('tools', 'tool_calling_llm')\n",
        "graph_builder2.add_conditional_edges('tool_calling_llm', tools_condition)\n",
        "\n",
        "graph_builder2.add_edge('tools', 'tool_calling_llm')\n",
        "graph_builder2.add_edge('tools', END)"
      ],
      "metadata": {
        "colab": {
          "base_uri": "https://localhost:8080/"
        },
        "id": "hDvJBXWpeE9b",
        "outputId": "5dcad6df-8d79-4ca1-f45b-3ca59cc392e8"
      },
      "id": "hDvJBXWpeE9b",
      "execution_count": 456,
      "outputs": [
        {
          "output_type": "execute_result",
          "data": {
            "text/plain": [
              "<langgraph.graph.state.StateGraph at 0x7c455e23fc90>"
            ]
          },
          "metadata": {},
          "execution_count": 456
        }
      ]
    },
    {
      "cell_type": "code",
      "source": [
        "graph = graph_builder2.compile()"
      ],
      "metadata": {
        "id": "pirYVx34eJOK"
      },
      "id": "pirYVx34eJOK",
      "execution_count": 457,
      "outputs": []
    },
    {
      "cell_type": "code",
      "source": [
        "display(Image(graph.get_graph().draw_mermaid_png()))"
      ],
      "metadata": {
        "colab": {
          "base_uri": "https://localhost:8080/",
          "height": 266
        },
        "id": "TJe7n_LneKsN",
        "outputId": "c48e423d-de87-419b-b0f0-314db34789f5"
      },
      "id": "TJe7n_LneKsN",
      "execution_count": 458,
      "outputs": [
        {
          "output_type": "display_data",
          "data": {
            "image/png": "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\n",
            "text/plain": [
              "<IPython.core.display.Image object>"
            ]
          },
          "metadata": {}
        }
      ]
    },
    {
      "cell_type": "code",
      "source": [
        "from langchain_core.messages import HumanMessage\n",
        "\n",
        "msg = graph.invoke({'messages': HumanMessage(content= \"2505.21486\")})\n",
        "\n",
        "for m in msg['messages']:\n",
        "  m.pretty_print()"
      ],
      "metadata": {
        "colab": {
          "base_uri": "https://localhost:8080/"
        },
        "id": "0d7gDyWjeL6J",
        "outputId": "e473e192-e58c-4a9e-e39f-01cd719f0de4"
      },
      "id": "0d7gDyWjeL6J",
      "execution_count": 459,
      "outputs": [
        {
          "output_type": "stream",
          "name": "stdout",
          "text": [
            "================================\u001b[1m Human Message \u001b[0m=================================\n",
            "\n",
            "2505.21486\n",
            "==================================\u001b[1m Ai Message \u001b[0m==================================\n",
            "Tool Calls:\n",
            "  arxiv (call_ftce)\n",
            " Call ID: call_ftce\n",
            "  Args:\n",
            "    query: 2505.21486\n",
            "=================================\u001b[1m Tool Message \u001b[0m=================================\n",
            "Name: arxiv\n",
            "\n",
            "Error: ConnectionError(ProtocolError('Connection aborted.', ConnectionResetError(104, 'Connection reset by peer')))\n",
            " Please fix your mistakes.\n",
            "==================================\u001b[1m Ai Message \u001b[0m==================================\n",
            "Tool Calls:\n",
            "  arxiv (call_3zp6)\n",
            " Call ID: call_3zp6\n",
            "  Args:\n",
            "    query: 2505.21486\n",
            "=================================\u001b[1m Tool Message \u001b[0m=================================\n",
            "Name: arxiv\n",
            "\n",
            "Published: 2025-05-27\n",
            "Title: Robust Hypothesis Generation: LLM-Automated Language Bias for Inductive Logic Programming\n",
            "Authors: Yang Yang, Jiemin Wu, Yutao Yue\n",
            "Summary: Automating robust hypothesis generation in open environments is pivotal for\n",
            "AI cognition. We introduce a novel framework integrating a multi-agent system,\n",
            "powered by Large Language Models (LLMs), with Inductive Logic Programming\n",
            "(ILP). Our system's LLM agents autonomously define a structured symbolic\n",
            "vocabulary (predicates) and r\n",
            "==================================\u001b[1m Ai Message \u001b[0m==================================\n",
            "\n",
            "Provide me with the full abstract from arxiv.\n"
          ]
        }
      ]
    },
    {
      "cell_type": "code",
      "source": [],
      "metadata": {
        "id": "v9MgHl4Pe30h"
      },
      "id": "v9MgHl4Pe30h",
      "execution_count": null,
      "outputs": []
    }
  ],
  "metadata": {
    "kernelspec": {
      "display_name": "Python 3",
      "language": "python",
      "name": "python3"
    },
    "language_info": {
      "codemirror_mode": {
        "name": "ipython",
        "version": 3
      },
      "file_extension": ".py",
      "mimetype": "text/x-python",
      "name": "python",
      "nbconvert_exporter": "python",
      "pygments_lexer": "ipython3",
      "version": "3.12.1"
    },
    "colab": {
      "provenance": []
    }
  },
  "nbformat": 4,
  "nbformat_minor": 5
}
